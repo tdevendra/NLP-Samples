{
 "cells": [
  {
   "cell_type": "markdown",
   "metadata": {
    "papermill": {
     "duration": 0.011169,
     "end_time": "2020-08-20T10:13:20.699386",
     "exception": false,
     "start_time": "2020-08-20T10:13:20.688217",
     "status": "completed"
    },
    "tags": []
   },
   "source": [
    "# Disaster Prediction via tweets\n",
    "\n",
    "<a id=\"top\"></a>\n",
    "\n",
    "<div class=\"list-group\" id=\"list-tab\" role=\"tablist\">\n",
    "<h3 class=\"list-group-item list-group-item-action active\" data-toggle=\"list\"  role=\"tab\" aria-controls=\"home\">navigation</h3>\n",
    "\n",
    "* [1. Library](#1)\n",
    "* [2. Data reading](#2)\n",
    "* [3. Data preprocessing and visulization](#3)\n",
    "* [4. Text cleaning](#4)\n",
    "* [5. Simple sentiment analysis and Create wordcloud](#5)\n",
    "* [6. vectorization](#6)\n",
    "* [7. Model fitting and Predication, Get clasification report](#7)\n",
    "* [8. Test Model on test file adn sumitted in sumbision file](#8)"
   ]
  },
  {
   "cell_type": "code",
   "execution_count": 3,
   "metadata": {
    "_cell_guid": "b1076dfc-b9ad-4769-8c92-a6c4dae69d19",
    "_uuid": "8f2839f25d086af736a60e9eeb907d3b93b6e0e5",
    "execution": {
     "iopub.execute_input": "2020-08-20T10:13:20.728679Z",
     "iopub.status.busy": "2020-08-20T10:13:20.727492Z",
     "iopub.status.idle": "2020-08-20T10:13:20.733435Z",
     "shell.execute_reply": "2020-08-20T10:13:20.732604Z"
    },
    "papermill": {
     "duration": 0.024377,
     "end_time": "2020-08-20T10:13:20.733640",
     "exception": false,
     "start_time": "2020-08-20T10:13:20.709263",
     "status": "completed"
    },
    "tags": []
   },
   "outputs": [],
   "source": [
    "# This Python 3 environment comes with many helpful analytics libraries installed\n",
    "# It is defined by the kaggle/python Docker image: https://github.com/kaggle/docker-python\n",
    "# For example, here's several helpful packages to load\n",
    "\n",
    "import numpy as np # linear algebra\n",
    "import pandas as pd # data processing, CSV file I/O (e.g. pd.read_csv)\n",
    "\n",
    "# Input data files are available in the read-only \"../input/\" directory\n",
    "# For example, running this (by clicking run or pressing Shift+Enter) will list all files under the input directory\n",
    "\n",
    "# import os\n",
    "# for dirname, _, filenames in os.walk('/kaggle/input'):\n",
    "#     for filename in filenames:\n",
    "#         print(os.path.join(dirname, filename))\n",
    "\n",
    "# You can write up to 5GB to the current directory (/kaggle/working/) that gets preserved as output when you create a version using \"Save & Run All\" \n",
    "# You can also write temporary files to /kaggle/temp/, but they won't be saved outside of the current session"
   ]
  },
  {
   "cell_type": "markdown",
   "metadata": {
    "papermill": {
     "duration": 0.009514,
     "end_time": "2020-08-20T10:13:20.753372",
     "exception": false,
     "start_time": "2020-08-20T10:13:20.743858",
     "status": "completed"
    },
    "tags": []
   },
   "source": [
    "<a id=\"1\"></a>\n",
    "\n",
    "# Library"
   ]
  },
  {
   "cell_type": "code",
   "execution_count": 4,
   "metadata": {
    "execution": {
     "iopub.execute_input": "2020-08-20T10:13:20.783627Z",
     "iopub.status.busy": "2020-08-20T10:13:20.782799Z",
     "iopub.status.idle": "2020-08-20T10:13:23.396729Z",
     "shell.execute_reply": "2020-08-20T10:13:23.397559Z"
    },
    "papermill": {
     "duration": 2.63486,
     "end_time": "2020-08-20T10:13:23.397799",
     "exception": false,
     "start_time": "2020-08-20T10:13:20.762939",
     "status": "completed"
    },
    "tags": []
   },
   "outputs": [
    {
     "name": "stderr",
     "output_type": "stream",
     "text": [
      "[nltk_data] Downloading package stopwords to\n",
      "[nltk_data]     C:\\Users\\Devendra\\AppData\\Roaming\\nltk_data...\n",
      "[nltk_data]   Unzipping corpora\\stopwords.zip.\n"
     ]
    }
   ],
   "source": [
    "import plotly \n",
    "import matplotlib.pyplot as plt\n",
    "import re \n",
    "from sklearn.feature_extraction.text import TfidfVectorizer\n",
    "from nltk.stem.porter import PorterStemmer\n",
    "from nltk.corpus import stopwords\n",
    "from sklearn.model_selection import train_test_split\n",
    "from sklearn.ensemble import RandomForestClassifier\n",
    "import joblib\n",
    "from nltk.tokenize import RegexpTokenizer\n",
    "import nltk\n",
    "from sklearn.model_selection import cross_val_score\n",
    "from sklearn.metrics import classification_report, confusion_matrix\n",
    "from sklearn.metrics import confusion_matrix \n",
    "from imblearn.combine import SMOTETomek\n",
    "from wordcloud import WordCloud\n",
    "# import plotly.graph_objects as go\n",
    "\n",
    "nltk.download('stopwords')\n",
    "\n",
    "stop_words = set(stopwords.words(\"english\"))\n",
    "default_stemmer = PorterStemmer()\n",
    "default_stopwords = stopwords.words('english')\n",
    "default_tokenizer=RegexpTokenizer(r\"\\w+\")"
   ]
  },
  {
   "cell_type": "markdown",
   "metadata": {
    "papermill": {
     "duration": 0.009837,
     "end_time": "2020-08-20T10:13:23.418112",
     "exception": false,
     "start_time": "2020-08-20T10:13:23.408275",
     "status": "completed"
    },
    "tags": []
   },
   "source": [
    "<a id=\"2\"></a>\n",
    "\n",
    "# Data reading"
   ]
  },
  {
   "cell_type": "code",
   "execution_count": 5,
   "metadata": {
    "_cell_guid": "79c7e3d0-c299-4dcb-8224-4455121ee9b0",
    "_uuid": "d629ff2d2480ee46fbb7e2d37f6b5fab8052498a",
    "execution": {
     "iopub.execute_input": "2020-08-20T10:13:23.452476Z",
     "iopub.status.busy": "2020-08-20T10:13:23.451735Z",
     "iopub.status.idle": "2020-08-20T10:13:23.513077Z",
     "shell.execute_reply": "2020-08-20T10:13:23.512424Z"
    },
    "papermill": {
     "duration": 0.084993,
     "end_time": "2020-08-20T10:13:23.513211",
     "exception": false,
     "start_time": "2020-08-20T10:13:23.428218",
     "status": "completed"
    },
    "tags": []
   },
   "outputs": [
    {
     "data": {
      "text/html": [
       "<div>\n",
       "<style scoped>\n",
       "    .dataframe tbody tr th:only-of-type {\n",
       "        vertical-align: middle;\n",
       "    }\n",
       "\n",
       "    .dataframe tbody tr th {\n",
       "        vertical-align: top;\n",
       "    }\n",
       "\n",
       "    .dataframe thead th {\n",
       "        text-align: right;\n",
       "    }\n",
       "</style>\n",
       "<table border=\"1\" class=\"dataframe\">\n",
       "  <thead>\n",
       "    <tr style=\"text-align: right;\">\n",
       "      <th></th>\n",
       "      <th>id</th>\n",
       "      <th>keyword</th>\n",
       "      <th>location</th>\n",
       "      <th>text</th>\n",
       "      <th>target</th>\n",
       "    </tr>\n",
       "  </thead>\n",
       "  <tbody>\n",
       "    <tr>\n",
       "      <th>0</th>\n",
       "      <td>1</td>\n",
       "      <td>NaN</td>\n",
       "      <td>NaN</td>\n",
       "      <td>Our Deeds are the Reason of this #earthquake M...</td>\n",
       "      <td>1</td>\n",
       "    </tr>\n",
       "    <tr>\n",
       "      <th>1</th>\n",
       "      <td>4</td>\n",
       "      <td>NaN</td>\n",
       "      <td>NaN</td>\n",
       "      <td>Forest fire near La Ronge Sask. Canada</td>\n",
       "      <td>1</td>\n",
       "    </tr>\n",
       "    <tr>\n",
       "      <th>2</th>\n",
       "      <td>5</td>\n",
       "      <td>NaN</td>\n",
       "      <td>NaN</td>\n",
       "      <td>All residents asked to 'shelter in place' are ...</td>\n",
       "      <td>1</td>\n",
       "    </tr>\n",
       "    <tr>\n",
       "      <th>3</th>\n",
       "      <td>6</td>\n",
       "      <td>NaN</td>\n",
       "      <td>NaN</td>\n",
       "      <td>13,000 people receive #wildfires evacuation or...</td>\n",
       "      <td>1</td>\n",
       "    </tr>\n",
       "    <tr>\n",
       "      <th>4</th>\n",
       "      <td>7</td>\n",
       "      <td>NaN</td>\n",
       "      <td>NaN</td>\n",
       "      <td>Just got sent this photo from Ruby #Alaska as ...</td>\n",
       "      <td>1</td>\n",
       "    </tr>\n",
       "  </tbody>\n",
       "</table>\n",
       "</div>"
      ],
      "text/plain": [
       "   id keyword location                                               text  \\\n",
       "0   1     NaN      NaN  Our Deeds are the Reason of this #earthquake M...   \n",
       "1   4     NaN      NaN             Forest fire near La Ronge Sask. Canada   \n",
       "2   5     NaN      NaN  All residents asked to 'shelter in place' are ...   \n",
       "3   6     NaN      NaN  13,000 people receive #wildfires evacuation or...   \n",
       "4   7     NaN      NaN  Just got sent this photo from Ruby #Alaska as ...   \n",
       "\n",
       "   target  \n",
       "0       1  \n",
       "1       1  \n",
       "2       1  \n",
       "3       1  \n",
       "4       1  "
      ]
     },
     "execution_count": 5,
     "metadata": {},
     "output_type": "execute_result"
    }
   ],
   "source": [
    "df = pd.read_csv(\"train.csv\") \n",
    "df.head()"
   ]
  },
  {
   "cell_type": "code",
   "execution_count": 6,
   "metadata": {
    "execution": {
     "iopub.execute_input": "2020-08-20T10:13:23.539308Z",
     "iopub.status.busy": "2020-08-20T10:13:23.538465Z",
     "iopub.status.idle": "2020-08-20T10:13:23.543559Z",
     "shell.execute_reply": "2020-08-20T10:13:23.542845Z"
    },
    "papermill": {
     "duration": 0.020111,
     "end_time": "2020-08-20T10:13:23.543692",
     "exception": false,
     "start_time": "2020-08-20T10:13:23.523581",
     "status": "completed"
    },
    "tags": []
   },
   "outputs": [
    {
     "data": {
      "text/plain": [
       "(7613, 5)"
      ]
     },
     "execution_count": 6,
     "metadata": {},
     "output_type": "execute_result"
    }
   ],
   "source": [
    "df.shape"
   ]
  },
  {
   "cell_type": "code",
   "execution_count": 7,
   "metadata": {
    "execution": {
     "iopub.execute_input": "2020-08-20T10:13:23.569828Z",
     "iopub.status.busy": "2020-08-20T10:13:23.569030Z",
     "iopub.status.idle": "2020-08-20T10:13:23.574186Z",
     "shell.execute_reply": "2020-08-20T10:13:23.573427Z"
    },
    "papermill": {
     "duration": 0.020485,
     "end_time": "2020-08-20T10:13:23.574307",
     "exception": false,
     "start_time": "2020-08-20T10:13:23.553822",
     "status": "completed"
    },
    "tags": []
   },
   "outputs": [
    {
     "data": {
      "text/plain": [
       "Index(['id', 'keyword', 'location', 'text', 'target'], dtype='object')"
      ]
     },
     "execution_count": 7,
     "metadata": {},
     "output_type": "execute_result"
    }
   ],
   "source": [
    "df.columns"
   ]
  },
  {
   "cell_type": "code",
   "execution_count": 8,
   "metadata": {
    "execution": {
     "iopub.execute_input": "2020-08-20T10:13:23.602981Z",
     "iopub.status.busy": "2020-08-20T10:13:23.601915Z",
     "iopub.status.idle": "2020-08-20T10:13:23.606145Z",
     "shell.execute_reply": "2020-08-20T10:13:23.605573Z"
    },
    "papermill": {
     "duration": 0.02137,
     "end_time": "2020-08-20T10:13:23.606270",
     "exception": false,
     "start_time": "2020-08-20T10:13:23.584900",
     "status": "completed"
    },
    "tags": []
   },
   "outputs": [
    {
     "data": {
      "text/plain": [
       "id           int64\n",
       "keyword     object\n",
       "location    object\n",
       "text        object\n",
       "target       int64\n",
       "dtype: object"
      ]
     },
     "execution_count": 8,
     "metadata": {},
     "output_type": "execute_result"
    }
   ],
   "source": [
    "df.dtypes"
   ]
  },
  {
   "cell_type": "markdown",
   "metadata": {
    "papermill": {
     "duration": 0.010304,
     "end_time": "2020-08-20T10:13:23.627262",
     "exception": false,
     "start_time": "2020-08-20T10:13:23.616958",
     "status": "completed"
    },
    "tags": []
   },
   "source": [
    "<a id=\"3\"></a>\n",
    "\n",
    "# Data preprocessing and visulization"
   ]
  },
  {
   "cell_type": "code",
   "execution_count": 9,
   "metadata": {
    "execution": {
     "iopub.execute_input": "2020-08-20T10:13:23.659612Z",
     "iopub.status.busy": "2020-08-20T10:13:23.656838Z",
     "iopub.status.idle": "2020-08-20T10:13:23.862896Z",
     "shell.execute_reply": "2020-08-20T10:13:23.862265Z"
    },
    "papermill": {
     "duration": 0.225218,
     "end_time": "2020-08-20T10:13:23.863027",
     "exception": false,
     "start_time": "2020-08-20T10:13:23.637809",
     "status": "completed"
    },
    "tags": []
   },
   "outputs": [],
   "source": [
    "df_target = df[\"target\"].value_counts()\n",
    "# fig = go.Figure([go.Pie(labels=df_target.index, values=df_target.values\n",
    "#                         ,hole=0.5)])  # can change the size of hole \n",
    "\n",
    "# fig.update_traces(hoverinfo='label+percent', textinfo='percent', textfont_size=15)\n",
    "# fig.update_layout(title=\"Disaster Tweets target columns distribution\",title_x=0.5)\n",
    "# fig.show()"
   ]
  },
  {
   "cell_type": "code",
   "execution_count": 10,
   "metadata": {
    "execution": {
     "iopub.execute_input": "2020-08-20T10:13:23.897955Z",
     "iopub.status.busy": "2020-08-20T10:13:23.897123Z",
     "iopub.status.idle": "2020-08-20T10:13:23.958610Z",
     "shell.execute_reply": "2020-08-20T10:13:23.957836Z"
    },
    "papermill": {
     "duration": 0.084119,
     "end_time": "2020-08-20T10:13:23.958741",
     "exception": false,
     "start_time": "2020-08-20T10:13:23.874622",
     "status": "completed"
    },
    "tags": []
   },
   "outputs": [],
   "source": [
    "df_columns = df.columns.tolist()\n",
    "null_value_counts = df[df_columns].isnull().sum()\n",
    "\n",
    "# fig = go.Figure(go.Bar(\n",
    "#     x=null_value_counts.index,y=null_value_counts.values,text=null_value_counts.values,\n",
    "#     textposition = \"outside\",\n",
    "# ))\n",
    "# fig.update_layout(title_text='Null value counts',xaxis_title=\"Column name\",yaxis_title=\"Counts of null values\")\n",
    "# fig.show()"
   ]
  },
  {
   "cell_type": "code",
   "execution_count": 11,
   "metadata": {
    "execution": {
     "iopub.execute_input": "2020-08-20T10:13:23.992560Z",
     "iopub.status.busy": "2020-08-20T10:13:23.991644Z",
     "iopub.status.idle": "2020-08-20T10:13:24.083087Z",
     "shell.execute_reply": "2020-08-20T10:13:24.082378Z"
    },
    "papermill": {
     "duration": 0.112791,
     "end_time": "2020-08-20T10:13:24.083239",
     "exception": false,
     "start_time": "2020-08-20T10:13:23.970448",
     "status": "completed"
    },
    "tags": []
   },
   "outputs": [],
   "source": [
    "df['keyword'] = df['keyword'].astype(str)\n",
    "df['text'] = df[['keyword', 'text']].apply(lambda x: ' '.join(x), axis = 1) "
   ]
  },
  {
   "cell_type": "code",
   "execution_count": 12,
   "metadata": {
    "execution": {
     "iopub.execute_input": "2020-08-20T10:13:24.114973Z",
     "iopub.status.busy": "2020-08-20T10:13:24.113871Z",
     "iopub.status.idle": "2020-08-20T10:13:24.117413Z",
     "shell.execute_reply": "2020-08-20T10:13:24.116765Z"
    },
    "papermill": {
     "duration": 0.022276,
     "end_time": "2020-08-20T10:13:24.117566",
     "exception": false,
     "start_time": "2020-08-20T10:13:24.095290",
     "status": "completed"
    },
    "tags": []
   },
   "outputs": [],
   "source": [
    "df = df.drop([\"location\",\"keyword\"],axis = 1)"
   ]
  },
  {
   "cell_type": "markdown",
   "metadata": {
    "papermill": {
     "duration": 0.01155,
     "end_time": "2020-08-20T10:13:24.141221",
     "exception": false,
     "start_time": "2020-08-20T10:13:24.129671",
     "status": "completed"
    },
    "tags": []
   },
   "source": [
    "<a id=\"4\"></a>\n",
    "\n",
    "# Text cleaning"
   ]
  },
  {
   "cell_type": "code",
   "execution_count": 13,
   "metadata": {
    "execution": {
     "iopub.execute_input": "2020-08-20T10:13:24.188017Z",
     "iopub.status.busy": "2020-08-20T10:13:24.187181Z",
     "iopub.status.idle": "2020-08-20T10:13:24.190758Z",
     "shell.execute_reply": "2020-08-20T10:13:24.190091Z"
    },
    "papermill": {
     "duration": 0.037201,
     "end_time": "2020-08-20T10:13:24.190893",
     "exception": false,
     "start_time": "2020-08-20T10:13:24.153692",
     "status": "completed"
    },
    "tags": []
   },
   "outputs": [],
   "source": [
    "def clean_text(text, ):\n",
    "        if text is not None:\n",
    "        #exclusions = ['RE:', 'Re:', 're:']\n",
    "        #exclusions = '|'.join(exclusions)\n",
    "                text = re.sub(r'[0-9]+','',text)\n",
    "                text =  text.lower()\n",
    "                text = re.sub('re:', '', text)\n",
    "                text = re.sub('-', '', text)\n",
    "                text = re.sub('_', '', text)\n",
    "                text = re.sub(r'^https?:\\/\\/.*[\\r\\n]*', '', text, flags=re.MULTILINE)\n",
    "                text = re.sub(r'\\S*@\\S*\\s?', '', text, flags=re.MULTILINE)\n",
    "        # Remove text between square brackets\n",
    "                text =re.sub('\\[[^]]*\\]', '', text)\n",
    "        # removes punctuation\n",
    "                text = re.sub(r'[^\\w\\s]','',text)\n",
    "                text = re.sub(r'\\n',' ',text)\n",
    "                text = re.sub(r'[0-9]+','',text)\n",
    "                #text = re.sub(r'[0-9]+','',text)\n",
    "        # strip html \n",
    "                p = re.compile(r'<.*?>')\n",
    "                text = re.sub(r\"\\'ve\", \" have \", text)\n",
    "                text = re.sub(r\"can't\", \"cannot \", text)\n",
    "                text = re.sub(r\"n't\", \" not \", text)\n",
    "                text = re.sub(r\"I'm\", \"I am\", text)\n",
    "                text = re.sub(r\" m \", \" am \", text)\n",
    "                text = re.sub(r\"\\'re\", \" are \", text)\n",
    "                text = re.sub(r\"\\'d\", \" would \", text)\n",
    "                text = re.sub(r\"\\'ll\", \" will \", text)\n",
    "        \n",
    "                text = p.sub('', text)\n",
    "\n",
    "        def tokenize_text(text,tokenizer=default_tokenizer):\n",
    "            token = default_tokenizer.tokenize(text)\n",
    "            return token\n",
    "        \n",
    "        def remove_stopwords(text, stop_words=default_stopwords):\n",
    "            tokens = [w for w in tokenize_text(text) if w not in stop_words]\n",
    "            return ' '.join(tokens)\n",
    "\n",
    "        def stem_text(text, stemmer=default_stemmer):\n",
    "            tokens = tokenize_text(text)\n",
    "            return ' '.join([stemmer.stem(t) for t in tokens])\n",
    "\n",
    "        text = stem_text(text) # stemming\n",
    "        text = remove_stopwords(text) # remove stopwords\n",
    "        #text.strip(' ') # strip whitespaces again?\n",
    "\n",
    "        return text"
   ]
  },
  {
   "cell_type": "code",
   "execution_count": 14,
   "metadata": {
    "execution": {
     "iopub.execute_input": "2020-08-20T10:13:24.240926Z",
     "iopub.status.busy": "2020-08-20T10:13:24.225349Z",
     "iopub.status.idle": "2020-08-20T10:13:29.069947Z",
     "shell.execute_reply": "2020-08-20T10:13:29.069131Z"
    },
    "papermill": {
     "duration": 4.86715,
     "end_time": "2020-08-20T10:13:29.070078",
     "exception": false,
     "start_time": "2020-08-20T10:13:24.202928",
     "status": "completed"
    },
    "tags": []
   },
   "outputs": [],
   "source": [
    "df['text'] = df['text'].apply(clean_text)\n"
   ]
  },
  {
   "cell_type": "markdown",
   "metadata": {
    "papermill": {
     "duration": 0.011492,
     "end_time": "2020-08-20T10:13:29.093717",
     "exception": false,
     "start_time": "2020-08-20T10:13:29.082225",
     "status": "completed"
    },
    "tags": []
   },
   "source": [
    "<a id=\"5\"></a>\n",
    "\n",
    "# Simple sentiment analysis and Create wordcloud"
   ]
  },
  {
   "cell_type": "code",
   "execution_count": 15,
   "metadata": {
    "execution": {
     "iopub.execute_input": "2020-08-20T10:13:29.124346Z",
     "iopub.status.busy": "2020-08-20T10:13:29.123251Z",
     "iopub.status.idle": "2020-08-20T10:13:29.126830Z",
     "shell.execute_reply": "2020-08-20T10:13:29.126154Z"
    },
    "papermill": {
     "duration": 0.021609,
     "end_time": "2020-08-20T10:13:29.126973",
     "exception": false,
     "start_time": "2020-08-20T10:13:29.105364",
     "status": "completed"
    },
    "tags": []
   },
   "outputs": [],
   "source": [
    "tweet_text_list = df.text.tolist()\n",
    "tweet_text_string = ''.join(tweet_text_list)"
   ]
  },
  {
   "cell_type": "code",
   "execution_count": 16,
   "metadata": {
    "execution": {
     "iopub.execute_input": "2020-08-20T10:13:29.168910Z",
     "iopub.status.busy": "2020-08-20T10:13:29.167875Z",
     "iopub.status.idle": "2020-08-20T10:13:29.223265Z",
     "shell.execute_reply": "2020-08-20T10:13:29.222295Z"
    },
    "papermill": {
     "duration": 0.084524,
     "end_time": "2020-08-20T10:13:29.223410",
     "exception": false,
     "start_time": "2020-08-20T10:13:29.138886",
     "status": "completed"
    },
    "tags": []
   },
   "outputs": [],
   "source": [
    "high_freq_word = pd.Series(' '.join(df['text']).split()).value_counts()[:20]"
   ]
  },
  {
   "cell_type": "code",
   "execution_count": 17,
   "metadata": {
    "execution": {
     "iopub.execute_input": "2020-08-20T10:13:29.260291Z",
     "iopub.status.busy": "2020-08-20T10:13:29.259479Z",
     "iopub.status.idle": "2020-08-20T10:13:29.301654Z",
     "shell.execute_reply": "2020-08-20T10:13:29.301038Z"
    },
    "papermill": {
     "duration": 0.064284,
     "end_time": "2020-08-20T10:13:29.301792",
     "exception": false,
     "start_time": "2020-08-20T10:13:29.237508",
     "status": "completed"
    },
    "tags": []
   },
   "outputs": [],
   "source": [
    "# fig = go.Figure(go.Bar(y=high_freq_word.index, x=high_freq_word.values,orientation=\"h\",marker={'color': high_freq_word.values,'colorscale': 'Viridis'} ))\n",
    "# fig.update_layout(title_text='Search most frequent word use in text column',xaxis_title=\"Count\",yaxis_title=\"Words\")\n",
    "# fig.show()"
   ]
  },
  {
   "cell_type": "code",
   "execution_count": 18,
   "metadata": {
    "execution": {
     "iopub.execute_input": "2020-08-20T10:13:29.394025Z",
     "iopub.status.busy": "2020-08-20T10:13:29.368110Z",
     "iopub.status.idle": "2020-08-20T10:13:38.599257Z",
     "shell.execute_reply": "2020-08-20T10:13:38.599905Z"
    },
    "papermill": {
     "duration": 9.285875,
     "end_time": "2020-08-20T10:13:38.600093",
     "exception": false,
     "start_time": "2020-08-20T10:13:29.314218",
     "status": "completed"
    },
    "tags": []
   },
   "outputs": [
    {
     "data": {
      "text/plain": [
       "<matplotlib.image.AxesImage at 0x1a625320>"
      ]
     },
     "execution_count": 18,
     "metadata": {},
     "output_type": "execute_result"
    },
    {
     "data": {
      "image/png": "[encoded data removed]",
      "text/plain": [
       "<Figure size 1440x720 with 1 Axes>"
      ]
     },
     "metadata": {
      "needs_background": "light"
     },
     "output_type": "display_data"
    }
   ],
   "source": [
    "wordcloud_ip = WordCloud(\n",
    "                      background_color='black',\n",
    "                      margin=3,\n",
    "                      width=1800,\n",
    "                      height=1400,\n",
    "                      max_words=200\n",
    "                     ).generate(tweet_text_string)\n",
    "\n",
    "plt.figure( figsize=(20,10) )\n",
    "plt.imshow(wordcloud_ip)"
   ]
  },
  {
   "cell_type": "markdown",
   "metadata": {
    "papermill": {
     "duration": 0.015964,
     "end_time": "2020-08-20T10:13:38.632190",
     "exception": false,
     "start_time": "2020-08-20T10:13:38.616226",
     "status": "completed"
    },
    "tags": []
   },
   "source": [
    "<a id=\"6\"></a>\n",
    "\n",
    "# Vectorization"
   ]
  },
  {
   "cell_type": "code",
   "execution_count": 19,
   "metadata": {
    "execution": {
     "iopub.execute_input": "2020-08-20T10:13:38.688698Z",
     "iopub.status.busy": "2020-08-20T10:13:38.683556Z",
     "iopub.status.idle": "2020-08-20T10:13:39.129142Z",
     "shell.execute_reply": "2020-08-20T10:13:39.128439Z"
    },
    "papermill": {
     "duration": 0.480985,
     "end_time": "2020-08-20T10:13:39.129297",
     "exception": false,
     "start_time": "2020-08-20T10:13:38.648312",
     "status": "completed"
    },
    "tags": []
   },
   "outputs": [],
   "source": [
    "cv = TfidfVectorizer(max_features = 1000)\n",
    "x = cv.fit_transform(df['text'])\n",
    "df1 = pd.DataFrame(x.toarray(), columns=cv.get_feature_names())\n",
    "df.drop([\"text\"], axis=1, inplace=True)\n",
    "main_df = pd.concat([df,df1], axis=1)"
   ]
  },
  {
   "cell_type": "code",
   "execution_count": 20,
   "metadata": {
    "execution": {
     "iopub.execute_input": "2020-08-20T10:13:39.194661Z",
     "iopub.status.busy": "2020-08-20T10:13:39.193845Z",
     "iopub.status.idle": "2020-08-20T10:13:39.200183Z",
     "shell.execute_reply": "2020-08-20T10:13:39.199469Z"
    },
    "papermill": {
     "duration": 0.054434,
     "end_time": "2020-08-20T10:13:39.200332",
     "exception": false,
     "start_time": "2020-08-20T10:13:39.145898",
     "status": "completed"
    },
    "tags": []
   },
   "outputs": [
    {
     "data": {
      "text/html": [
       "<div>\n",
       "<style scoped>\n",
       "    .dataframe tbody tr th:only-of-type {\n",
       "        vertical-align: middle;\n",
       "    }\n",
       "\n",
       "    .dataframe tbody tr th {\n",
       "        vertical-align: top;\n",
       "    }\n",
       "\n",
       "    .dataframe thead th {\n",
       "        text-align: right;\n",
       "    }\n",
       "</style>\n",
       "<table border=\"1\" class=\"dataframe\">\n",
       "  <thead>\n",
       "    <tr style=\"text-align: right;\">\n",
       "      <th></th>\n",
       "      <th>id</th>\n",
       "      <th>target</th>\n",
       "      <th>abc</th>\n",
       "      <th>ablaz</th>\n",
       "      <th>absolut</th>\n",
       "      <th>accid</th>\n",
       "      <th>account</th>\n",
       "      <th>across</th>\n",
       "      <th>act</th>\n",
       "      <th>action</th>\n",
       "      <th>...</th>\n",
       "      <th>yearold</th>\n",
       "      <th>yet</th>\n",
       "      <th>york</th>\n",
       "      <th>young</th>\n",
       "      <th>youth</th>\n",
       "      <th>youtub</th>\n",
       "      <th>yr</th>\n",
       "      <th>zone</th>\n",
       "      <th>ûò</th>\n",
       "      <th>ûó</th>\n",
       "    </tr>\n",
       "  </thead>\n",
       "  <tbody>\n",
       "    <tr>\n",
       "      <th>0</th>\n",
       "      <td>1</td>\n",
       "      <td>1</td>\n",
       "      <td>0.0</td>\n",
       "      <td>0.0</td>\n",
       "      <td>0.0</td>\n",
       "      <td>0.0</td>\n",
       "      <td>0.0</td>\n",
       "      <td>0.0</td>\n",
       "      <td>0.0</td>\n",
       "      <td>0.0</td>\n",
       "      <td>...</td>\n",
       "      <td>0.0</td>\n",
       "      <td>0.0</td>\n",
       "      <td>0.0</td>\n",
       "      <td>0.0</td>\n",
       "      <td>0.0</td>\n",
       "      <td>0.0</td>\n",
       "      <td>0.0</td>\n",
       "      <td>0.0</td>\n",
       "      <td>0.0</td>\n",
       "      <td>0.0</td>\n",
       "    </tr>\n",
       "    <tr>\n",
       "      <th>1</th>\n",
       "      <td>4</td>\n",
       "      <td>1</td>\n",
       "      <td>0.0</td>\n",
       "      <td>0.0</td>\n",
       "      <td>0.0</td>\n",
       "      <td>0.0</td>\n",
       "      <td>0.0</td>\n",
       "      <td>0.0</td>\n",
       "      <td>0.0</td>\n",
       "      <td>0.0</td>\n",
       "      <td>...</td>\n",
       "      <td>0.0</td>\n",
       "      <td>0.0</td>\n",
       "      <td>0.0</td>\n",
       "      <td>0.0</td>\n",
       "      <td>0.0</td>\n",
       "      <td>0.0</td>\n",
       "      <td>0.0</td>\n",
       "      <td>0.0</td>\n",
       "      <td>0.0</td>\n",
       "      <td>0.0</td>\n",
       "    </tr>\n",
       "    <tr>\n",
       "      <th>2</th>\n",
       "      <td>5</td>\n",
       "      <td>1</td>\n",
       "      <td>0.0</td>\n",
       "      <td>0.0</td>\n",
       "      <td>0.0</td>\n",
       "      <td>0.0</td>\n",
       "      <td>0.0</td>\n",
       "      <td>0.0</td>\n",
       "      <td>0.0</td>\n",
       "      <td>0.0</td>\n",
       "      <td>...</td>\n",
       "      <td>0.0</td>\n",
       "      <td>0.0</td>\n",
       "      <td>0.0</td>\n",
       "      <td>0.0</td>\n",
       "      <td>0.0</td>\n",
       "      <td>0.0</td>\n",
       "      <td>0.0</td>\n",
       "      <td>0.0</td>\n",
       "      <td>0.0</td>\n",
       "      <td>0.0</td>\n",
       "    </tr>\n",
       "    <tr>\n",
       "      <th>3</th>\n",
       "      <td>6</td>\n",
       "      <td>1</td>\n",
       "      <td>0.0</td>\n",
       "      <td>0.0</td>\n",
       "      <td>0.0</td>\n",
       "      <td>0.0</td>\n",
       "      <td>0.0</td>\n",
       "      <td>0.0</td>\n",
       "      <td>0.0</td>\n",
       "      <td>0.0</td>\n",
       "      <td>...</td>\n",
       "      <td>0.0</td>\n",
       "      <td>0.0</td>\n",
       "      <td>0.0</td>\n",
       "      <td>0.0</td>\n",
       "      <td>0.0</td>\n",
       "      <td>0.0</td>\n",
       "      <td>0.0</td>\n",
       "      <td>0.0</td>\n",
       "      <td>0.0</td>\n",
       "      <td>0.0</td>\n",
       "    </tr>\n",
       "    <tr>\n",
       "      <th>4</th>\n",
       "      <td>7</td>\n",
       "      <td>1</td>\n",
       "      <td>0.0</td>\n",
       "      <td>0.0</td>\n",
       "      <td>0.0</td>\n",
       "      <td>0.0</td>\n",
       "      <td>0.0</td>\n",
       "      <td>0.0</td>\n",
       "      <td>0.0</td>\n",
       "      <td>0.0</td>\n",
       "      <td>...</td>\n",
       "      <td>0.0</td>\n",
       "      <td>0.0</td>\n",
       "      <td>0.0</td>\n",
       "      <td>0.0</td>\n",
       "      <td>0.0</td>\n",
       "      <td>0.0</td>\n",
       "      <td>0.0</td>\n",
       "      <td>0.0</td>\n",
       "      <td>0.0</td>\n",
       "      <td>0.0</td>\n",
       "    </tr>\n",
       "  </tbody>\n",
       "</table>\n",
       "<p>5 rows × 1002 columns</p>\n",
       "</div>"
      ],
      "text/plain": [
       "   id  target  abc  ablaz  absolut  accid  account  across  act  action  ...  \\\n",
       "0   1       1  0.0    0.0      0.0    0.0      0.0     0.0  0.0     0.0  ...   \n",
       "1   4       1  0.0    0.0      0.0    0.0      0.0     0.0  0.0     0.0  ...   \n",
       "2   5       1  0.0    0.0      0.0    0.0      0.0     0.0  0.0     0.0  ...   \n",
       "3   6       1  0.0    0.0      0.0    0.0      0.0     0.0  0.0     0.0  ...   \n",
       "4   7       1  0.0    0.0      0.0    0.0      0.0     0.0  0.0     0.0  ...   \n",
       "\n",
       "   yearold  yet  york  young  youth  youtub   yr  zone   ûò   ûó  \n",
       "0      0.0  0.0   0.0    0.0    0.0     0.0  0.0   0.0  0.0  0.0  \n",
       "1      0.0  0.0   0.0    0.0    0.0     0.0  0.0   0.0  0.0  0.0  \n",
       "2      0.0  0.0   0.0    0.0    0.0     0.0  0.0   0.0  0.0  0.0  \n",
       "3      0.0  0.0   0.0    0.0    0.0     0.0  0.0   0.0  0.0  0.0  \n",
       "4      0.0  0.0   0.0    0.0    0.0     0.0  0.0   0.0  0.0  0.0  \n",
       "\n",
       "[5 rows x 1002 columns]"
      ]
     },
     "execution_count": 20,
     "metadata": {},
     "output_type": "execute_result"
    }
   ],
   "source": [
    "main_df.head()"
   ]
  },
  {
   "cell_type": "markdown",
   "metadata": {
    "papermill": {
     "duration": 0.016962,
     "end_time": "2020-08-20T10:13:39.234390",
     "exception": false,
     "start_time": "2020-08-20T10:13:39.217428",
     "status": "completed"
    },
    "tags": []
   },
   "source": [
    "<a id=\"7\"></a>\n",
    "\n",
    "# Model fitting and Predication, Get clasification report"
   ]
  },
  {
   "cell_type": "code",
   "execution_count": 21,
   "metadata": {
    "execution": {
     "iopub.execute_input": "2020-08-20T10:13:39.346803Z",
     "iopub.status.busy": "2020-08-20T10:13:39.345667Z",
     "iopub.status.idle": "2020-08-20T10:13:39.349394Z",
     "shell.execute_reply": "2020-08-20T10:13:39.348613Z"
    },
    "papermill": {
     "duration": 0.097986,
     "end_time": "2020-08-20T10:13:39.349554",
     "exception": false,
     "start_time": "2020-08-20T10:13:39.251568",
     "status": "completed"
    },
    "tags": []
   },
   "outputs": [],
   "source": [
    "Y = main_df.iloc[:,1]\n",
    "X = main_df.iloc[:,2:]"
   ]
  },
  {
   "cell_type": "code",
   "execution_count": 22,
   "metadata": {
    "execution": {
     "iopub.execute_input": "2020-08-20T10:13:39.404487Z",
     "iopub.status.busy": "2020-08-20T10:13:39.403235Z",
     "iopub.status.idle": "2020-08-20T10:16:18.924512Z",
     "shell.execute_reply": "2020-08-20T10:16:18.923768Z"
    },
    "papermill": {
     "duration": 159.557837,
     "end_time": "2020-08-20T10:16:18.924751",
     "exception": false,
     "start_time": "2020-08-20T10:13:39.366914",
     "status": "completed"
    },
    "tags": []
   },
   "outputs": [],
   "source": [
    "rfc = RandomForestClassifier(n_jobs=3,oob_score=True,n_estimators=2000,criterion=\"entropy\")\n",
    "model=rfc.fit(X,Y)"
   ]
  },
  {
   "cell_type": "code",
   "execution_count": 23,
   "metadata": {
    "execution": {
     "iopub.execute_input": "2020-08-20T10:16:18.977782Z",
     "iopub.status.busy": "2020-08-20T10:16:18.976934Z",
     "iopub.status.idle": "2020-08-20T10:16:25.418036Z",
     "shell.execute_reply": "2020-08-20T10:16:25.417419Z"
    },
    "papermill": {
     "duration": 6.475932,
     "end_time": "2020-08-20T10:16:25.418182",
     "exception": false,
     "start_time": "2020-08-20T10:16:18.942250",
     "status": "completed"
    },
    "tags": []
   },
   "outputs": [
    {
     "data": {
      "text/plain": [
       "0.9753053986601865"
      ]
     },
     "execution_count": 23,
     "metadata": {},
     "output_type": "execute_result"
    }
   ],
   "source": [
    "rfc.score(X,Y)"
   ]
  },
  {
   "cell_type": "code",
   "execution_count": 24,
   "metadata": {
    "execution": {
     "iopub.execute_input": "2020-08-20T10:16:25.469448Z",
     "iopub.status.busy": "2020-08-20T10:16:25.468717Z",
     "iopub.status.idle": "2020-08-20T10:16:31.500447Z",
     "shell.execute_reply": "2020-08-20T10:16:31.501070Z"
    },
    "papermill": {
     "duration": 6.066491,
     "end_time": "2020-08-20T10:16:31.501257",
     "exception": false,
     "start_time": "2020-08-20T10:16:25.434766",
     "status": "completed"
    },
    "tags": []
   },
   "outputs": [],
   "source": [
    "rfc_predict = rfc.predict(X)"
   ]
  },
  {
   "cell_type": "code",
   "execution_count": 25,
   "metadata": {
    "execution": {
     "iopub.execute_input": "2020-08-20T10:16:31.540851Z",
     "iopub.status.busy": "2020-08-20T10:16:31.540112Z",
     "iopub.status.idle": "2020-08-20T10:16:31.561311Z",
     "shell.execute_reply": "2020-08-20T10:16:31.560268Z"
    },
    "papermill": {
     "duration": 0.043457,
     "end_time": "2020-08-20T10:16:31.561495",
     "exception": false,
     "start_time": "2020-08-20T10:16:31.518038",
     "status": "completed"
    },
    "tags": []
   },
   "outputs": [
    {
     "name": "stdout",
     "output_type": "stream",
     "text": [
      "              precision    recall  f1-score   support\n",
      "\n",
      "           0       0.97      0.99      0.98      4342\n",
      "           1       0.98      0.96      0.97      3271\n",
      "\n",
      "    accuracy                           0.98      7613\n",
      "   macro avg       0.98      0.97      0.97      7613\n",
      "weighted avg       0.98      0.98      0.98      7613\n",
      "\n"
     ]
    }
   ],
   "source": [
    "print(classification_report(Y, rfc_predict))"
   ]
  },
  {
   "cell_type": "code",
   "execution_count": 26,
   "metadata": {
    "execution": {
     "iopub.execute_input": "2020-08-20T10:16:31.601416Z",
     "iopub.status.busy": "2020-08-20T10:16:31.600674Z",
     "iopub.status.idle": "2020-08-20T10:16:31.619493Z",
     "shell.execute_reply": "2020-08-20T10:16:31.618763Z"
    },
    "papermill": {
     "duration": 0.040481,
     "end_time": "2020-08-20T10:16:31.619650",
     "exception": false,
     "start_time": "2020-08-20T10:16:31.579169",
     "status": "completed"
    },
    "tags": []
   },
   "outputs": [
    {
     "data": {
      "text/plain": [
       "array([[4282,   60],\n",
       "       [ 128, 3143]], dtype=int64)"
      ]
     },
     "execution_count": 26,
     "metadata": {},
     "output_type": "execute_result"
    }
   ],
   "source": [
    "confusion_matrix(Y, rfc_predict)"
   ]
  },
  {
   "cell_type": "markdown",
   "metadata": {
    "papermill": {
     "duration": 0.017045,
     "end_time": "2020-08-20T10:16:31.653735",
     "exception": false,
     "start_time": "2020-08-20T10:16:31.636690",
     "status": "completed"
    },
    "tags": []
   },
   "source": [
    "<a id=\"8\"></a>\n",
    "\n",
    "# Test Model on test file and sumitted in sumbision file"
   ]
  },
  {
   "cell_type": "code",
   "execution_count": 27,
   "metadata": {
    "execution": {
     "iopub.execute_input": "2020-08-20T10:16:31.698249Z",
     "iopub.status.busy": "2020-08-20T10:16:31.697450Z",
     "iopub.status.idle": "2020-08-20T10:16:31.718297Z",
     "shell.execute_reply": "2020-08-20T10:16:31.717499Z"
    },
    "papermill": {
     "duration": 0.047573,
     "end_time": "2020-08-20T10:16:31.718426",
     "exception": false,
     "start_time": "2020-08-20T10:16:31.670853",
     "status": "completed"
    },
    "tags": []
   },
   "outputs": [
    {
     "data": {
      "text/plain": [
       "(3263, 2)"
      ]
     },
     "execution_count": 27,
     "metadata": {},
     "output_type": "execute_result"
    }
   ],
   "source": [
    "test = pd.read_csv(\"test.csv\",usecols=[\"text\",\"id\"])\n",
    "test.shape"
   ]
  },
  {
   "cell_type": "code",
   "execution_count": 28,
   "metadata": {
    "execution": {
     "iopub.execute_input": "2020-08-20T10:16:31.784634Z",
     "iopub.status.busy": "2020-08-20T10:16:31.779746Z",
     "iopub.status.idle": "2020-08-20T10:16:35.889372Z",
     "shell.execute_reply": "2020-08-20T10:16:35.888687Z"
    },
    "papermill": {
     "duration": 4.153832,
     "end_time": "2020-08-20T10:16:35.889506",
     "exception": false,
     "start_time": "2020-08-20T10:16:31.735674",
     "status": "completed"
    },
    "tags": []
   },
   "outputs": [],
   "source": [
    "test['text'] = test['text'].apply(clean_text)\n",
    "vect = cv.transform(test['text']).toarray()\n",
    "test[\"target\"] = rfc.predict(vect)"
   ]
  },
  {
   "cell_type": "code",
   "execution_count": 29,
   "metadata": {
    "execution": {
     "iopub.execute_input": "2020-08-20T10:16:35.930806Z",
     "iopub.status.busy": "2020-08-20T10:16:35.930036Z",
     "iopub.status.idle": "2020-08-20T10:16:35.944602Z",
     "shell.execute_reply": "2020-08-20T10:16:35.943849Z"
    },
    "papermill": {
     "duration": 0.037704,
     "end_time": "2020-08-20T10:16:35.944729",
     "exception": false,
     "start_time": "2020-08-20T10:16:35.907025",
     "status": "completed"
    },
    "tags": []
   },
   "outputs": [
    {
     "data": {
      "text/html": [
       "<div>\n",
       "<style scoped>\n",
       "    .dataframe tbody tr th:only-of-type {\n",
       "        vertical-align: middle;\n",
       "    }\n",
       "\n",
       "    .dataframe tbody tr th {\n",
       "        vertical-align: top;\n",
       "    }\n",
       "\n",
       "    .dataframe thead th {\n",
       "        text-align: right;\n",
       "    }\n",
       "</style>\n",
       "<table border=\"1\" class=\"dataframe\">\n",
       "  <thead>\n",
       "    <tr style=\"text-align: right;\">\n",
       "      <th></th>\n",
       "      <th>id</th>\n",
       "    </tr>\n",
       "  </thead>\n",
       "  <tbody>\n",
       "    <tr>\n",
       "      <th>0</th>\n",
       "      <td>0</td>\n",
       "    </tr>\n",
       "    <tr>\n",
       "      <th>1</th>\n",
       "      <td>2</td>\n",
       "    </tr>\n",
       "    <tr>\n",
       "      <th>2</th>\n",
       "      <td>3</td>\n",
       "    </tr>\n",
       "    <tr>\n",
       "      <th>3</th>\n",
       "      <td>9</td>\n",
       "    </tr>\n",
       "    <tr>\n",
       "      <th>4</th>\n",
       "      <td>11</td>\n",
       "    </tr>\n",
       "    <tr>\n",
       "      <th>5</th>\n",
       "      <td>12</td>\n",
       "    </tr>\n",
       "    <tr>\n",
       "      <th>6</th>\n",
       "      <td>21</td>\n",
       "    </tr>\n",
       "    <tr>\n",
       "      <th>7</th>\n",
       "      <td>22</td>\n",
       "    </tr>\n",
       "    <tr>\n",
       "      <th>8</th>\n",
       "      <td>27</td>\n",
       "    </tr>\n",
       "    <tr>\n",
       "      <th>9</th>\n",
       "      <td>29</td>\n",
       "    </tr>\n",
       "    <tr>\n",
       "      <th>10</th>\n",
       "      <td>30</td>\n",
       "    </tr>\n",
       "    <tr>\n",
       "      <th>11</th>\n",
       "      <td>35</td>\n",
       "    </tr>\n",
       "    <tr>\n",
       "      <th>12</th>\n",
       "      <td>42</td>\n",
       "    </tr>\n",
       "    <tr>\n",
       "      <th>13</th>\n",
       "      <td>43</td>\n",
       "    </tr>\n",
       "    <tr>\n",
       "      <th>14</th>\n",
       "      <td>45</td>\n",
       "    </tr>\n",
       "    <tr>\n",
       "      <th>15</th>\n",
       "      <td>46</td>\n",
       "    </tr>\n",
       "    <tr>\n",
       "      <th>16</th>\n",
       "      <td>47</td>\n",
       "    </tr>\n",
       "    <tr>\n",
       "      <th>17</th>\n",
       "      <td>51</td>\n",
       "    </tr>\n",
       "    <tr>\n",
       "      <th>18</th>\n",
       "      <td>58</td>\n",
       "    </tr>\n",
       "    <tr>\n",
       "      <th>19</th>\n",
       "      <td>60</td>\n",
       "    </tr>\n",
       "    <tr>\n",
       "      <th>20</th>\n",
       "      <td>69</td>\n",
       "    </tr>\n",
       "    <tr>\n",
       "      <th>21</th>\n",
       "      <td>70</td>\n",
       "    </tr>\n",
       "    <tr>\n",
       "      <th>22</th>\n",
       "      <td>72</td>\n",
       "    </tr>\n",
       "    <tr>\n",
       "      <th>23</th>\n",
       "      <td>75</td>\n",
       "    </tr>\n",
       "    <tr>\n",
       "      <th>24</th>\n",
       "      <td>84</td>\n",
       "    </tr>\n",
       "    <tr>\n",
       "      <th>25</th>\n",
       "      <td>87</td>\n",
       "    </tr>\n",
       "    <tr>\n",
       "      <th>26</th>\n",
       "      <td>88</td>\n",
       "    </tr>\n",
       "    <tr>\n",
       "      <th>27</th>\n",
       "      <td>90</td>\n",
       "    </tr>\n",
       "    <tr>\n",
       "      <th>28</th>\n",
       "      <td>94</td>\n",
       "    </tr>\n",
       "    <tr>\n",
       "      <th>29</th>\n",
       "      <td>99</td>\n",
       "    </tr>\n",
       "    <tr>\n",
       "      <th>...</th>\n",
       "      <td>...</td>\n",
       "    </tr>\n",
       "    <tr>\n",
       "      <th>3233</th>\n",
       "      <td>10756</td>\n",
       "    </tr>\n",
       "    <tr>\n",
       "      <th>3234</th>\n",
       "      <td>10757</td>\n",
       "    </tr>\n",
       "    <tr>\n",
       "      <th>3235</th>\n",
       "      <td>10758</td>\n",
       "    </tr>\n",
       "    <tr>\n",
       "      <th>3236</th>\n",
       "      <td>10761</td>\n",
       "    </tr>\n",
       "    <tr>\n",
       "      <th>3237</th>\n",
       "      <td>10762</td>\n",
       "    </tr>\n",
       "    <tr>\n",
       "      <th>3238</th>\n",
       "      <td>10773</td>\n",
       "    </tr>\n",
       "    <tr>\n",
       "      <th>3239</th>\n",
       "      <td>10778</td>\n",
       "    </tr>\n",
       "    <tr>\n",
       "      <th>3240</th>\n",
       "      <td>10781</td>\n",
       "    </tr>\n",
       "    <tr>\n",
       "      <th>3241</th>\n",
       "      <td>10791</td>\n",
       "    </tr>\n",
       "    <tr>\n",
       "      <th>3242</th>\n",
       "      <td>10792</td>\n",
       "    </tr>\n",
       "    <tr>\n",
       "      <th>3243</th>\n",
       "      <td>10796</td>\n",
       "    </tr>\n",
       "    <tr>\n",
       "      <th>3244</th>\n",
       "      <td>10797</td>\n",
       "    </tr>\n",
       "    <tr>\n",
       "      <th>3245</th>\n",
       "      <td>10801</td>\n",
       "    </tr>\n",
       "    <tr>\n",
       "      <th>3246</th>\n",
       "      <td>10804</td>\n",
       "    </tr>\n",
       "    <tr>\n",
       "      <th>3247</th>\n",
       "      <td>10806</td>\n",
       "    </tr>\n",
       "    <tr>\n",
       "      <th>3248</th>\n",
       "      <td>10807</td>\n",
       "    </tr>\n",
       "    <tr>\n",
       "      <th>3249</th>\n",
       "      <td>10816</td>\n",
       "    </tr>\n",
       "    <tr>\n",
       "      <th>3250</th>\n",
       "      <td>10820</td>\n",
       "    </tr>\n",
       "    <tr>\n",
       "      <th>3251</th>\n",
       "      <td>10828</td>\n",
       "    </tr>\n",
       "    <tr>\n",
       "      <th>3252</th>\n",
       "      <td>10836</td>\n",
       "    </tr>\n",
       "    <tr>\n",
       "      <th>3253</th>\n",
       "      <td>10838</td>\n",
       "    </tr>\n",
       "    <tr>\n",
       "      <th>3254</th>\n",
       "      <td>10845</td>\n",
       "    </tr>\n",
       "    <tr>\n",
       "      <th>3255</th>\n",
       "      <td>10856</td>\n",
       "    </tr>\n",
       "    <tr>\n",
       "      <th>3256</th>\n",
       "      <td>10857</td>\n",
       "    </tr>\n",
       "    <tr>\n",
       "      <th>3257</th>\n",
       "      <td>10858</td>\n",
       "    </tr>\n",
       "    <tr>\n",
       "      <th>3258</th>\n",
       "      <td>10861</td>\n",
       "    </tr>\n",
       "    <tr>\n",
       "      <th>3259</th>\n",
       "      <td>10865</td>\n",
       "    </tr>\n",
       "    <tr>\n",
       "      <th>3260</th>\n",
       "      <td>10868</td>\n",
       "    </tr>\n",
       "    <tr>\n",
       "      <th>3261</th>\n",
       "      <td>10874</td>\n",
       "    </tr>\n",
       "    <tr>\n",
       "      <th>3262</th>\n",
       "      <td>10875</td>\n",
       "    </tr>\n",
       "  </tbody>\n",
       "</table>\n",
       "<p>3263 rows × 1 columns</p>\n",
       "</div>"
      ],
      "text/plain": [
       "         id\n",
       "0         0\n",
       "1         2\n",
       "2         3\n",
       "3         9\n",
       "4        11\n",
       "5        12\n",
       "6        21\n",
       "7        22\n",
       "8        27\n",
       "9        29\n",
       "10       30\n",
       "11       35\n",
       "12       42\n",
       "13       43\n",
       "14       45\n",
       "15       46\n",
       "16       47\n",
       "17       51\n",
       "18       58\n",
       "19       60\n",
       "20       69\n",
       "21       70\n",
       "22       72\n",
       "23       75\n",
       "24       84\n",
       "25       87\n",
       "26       88\n",
       "27       90\n",
       "28       94\n",
       "29       99\n",
       "...     ...\n",
       "3233  10756\n",
       "3234  10757\n",
       "3235  10758\n",
       "3236  10761\n",
       "3237  10762\n",
       "3238  10773\n",
       "3239  10778\n",
       "3240  10781\n",
       "3241  10791\n",
       "3242  10792\n",
       "3243  10796\n",
       "3244  10797\n",
       "3245  10801\n",
       "3246  10804\n",
       "3247  10806\n",
       "3248  10807\n",
       "3249  10816\n",
       "3250  10820\n",
       "3251  10828\n",
       "3252  10836\n",
       "3253  10838\n",
       "3254  10845\n",
       "3255  10856\n",
       "3256  10857\n",
       "3257  10858\n",
       "3258  10861\n",
       "3259  10865\n",
       "3260  10868\n",
       "3261  10874\n",
       "3262  10875\n",
       "\n",
       "[3263 rows x 1 columns]"
      ]
     },
     "execution_count": 29,
     "metadata": {},
     "output_type": "execute_result"
    }
   ],
   "source": [
    "submission = pd.read_csv(\"sample_submission.csv\",usecols=[\"id\"])\n",
    "submission"
   ]
  },
  {
   "cell_type": "code",
   "execution_count": 30,
   "metadata": {
    "execution": {
     "iopub.execute_input": "2020-08-20T10:16:35.988306Z",
     "iopub.status.busy": "2020-08-20T10:16:35.986225Z",
     "iopub.status.idle": "2020-08-20T10:16:35.996262Z",
     "shell.execute_reply": "2020-08-20T10:16:35.995511Z"
    },
    "papermill": {
     "duration": 0.034251,
     "end_time": "2020-08-20T10:16:35.996581",
     "exception": false,
     "start_time": "2020-08-20T10:16:35.962330",
     "status": "completed"
    },
    "tags": []
   },
   "outputs": [],
   "source": [
    "submission = submission.set_index('id').join(test.set_index('id'))\n",
    "submission = submission.drop([\"text\"],axis=1)"
   ]
  },
  {
   "cell_type": "code",
   "execution_count": 31,
   "metadata": {
    "execution": {
     "iopub.execute_input": "2020-08-20T10:16:36.041065Z",
     "iopub.status.busy": "2020-08-20T10:16:36.039993Z",
     "iopub.status.idle": "2020-08-20T10:16:36.044150Z",
     "shell.execute_reply": "2020-08-20T10:16:36.043415Z"
    },
    "papermill": {
     "duration": 0.029603,
     "end_time": "2020-08-20T10:16:36.044272",
     "exception": false,
     "start_time": "2020-08-20T10:16:36.014669",
     "status": "completed"
    },
    "tags": []
   },
   "outputs": [
    {
     "data": {
      "text/plain": [
       "0    2083\n",
       "1    1180\n",
       "Name: target, dtype: int64"
      ]
     },
     "execution_count": 31,
     "metadata": {},
     "output_type": "execute_result"
    }
   ],
   "source": [
    "submission[\"target\"].value_counts()"
   ]
  },
  {
   "cell_type": "code",
   "execution_count": 32,
   "metadata": {
    "execution": {
     "iopub.execute_input": "2020-08-20T10:16:36.084588Z",
     "iopub.status.busy": "2020-08-20T10:16:36.083838Z",
     "iopub.status.idle": "2020-08-20T10:16:36.191854Z",
     "shell.execute_reply": "2020-08-20T10:16:36.191194Z"
    },
    "papermill": {
     "duration": 0.130216,
     "end_time": "2020-08-20T10:16:36.192003",
     "exception": false,
     "start_time": "2020-08-20T10:16:36.061787",
     "status": "completed"
    },
    "tags": []
   },
   "outputs": [],
   "source": [
    "submission.to_csv(\"submission.csv\")"
   ]
  },
  {
   "cell_type": "code",
   "execution_count": null,
   "metadata": {},
   "outputs": [],
   "source": []
  },
  {
   "cell_type": "code",
   "execution_count": null,
   "metadata": {},
   "outputs": [],
   "source": []
  },
  {
   "cell_type": "code",
   "execution_count": null,
   "metadata": {},
   "outputs": [],
   "source": []
  }
 ],
 "metadata": {
  "kernelspec": {
   "display_name": "Python 3",
   "language": "python",
   "name": "python3"
  },
  "language_info": {
   "codemirror_mode": {
    "name": "ipython",
    "version": 3
   },
   "file_extension": ".py",
   "mimetype": "text/x-python",
   "name": "python",
   "nbconvert_exporter": "python",
   "pygments_lexer": "ipython3",
   "version": "3.5.0"
  },
  "papermill": {
   "duration": 200.264405,
   "end_time": "2020-08-20T10:16:36.317359",
   "environment_variables": {},
   "exception": null,
   "input_path": "__notebook__.ipynb",
   "output_path": "__notebook__.ipynb",
   "parameters": {},
   "start_time": "2020-08-20T10:13:16.052954",
   "version": "2.1.0"
  }
 },
 "nbformat": 4,
 "nbformat_minor": 4
}
