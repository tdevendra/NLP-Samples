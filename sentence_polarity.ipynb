{
 "cells": [
  {
   "cell_type": "code",
   "execution_count": 11,
   "metadata": {},
   "outputs": [],
   "source": [
    "from textblob import TextBlob\n",
    "def sentiment_textblob(feedback):\n",
    "    senti = TextBlob(feedback)\n",
    "    polarity = senti.sentiment.polarity\n",
    "    if -1 <= polarity < -0.5:\n",
    "        label = 'very bad'\n",
    "    elif -0.5 <= polarity < -0.1:\n",
    "        label = 'bad'\n",
    "    elif -0.1 <= polarity < 0.2:\n",
    "        label = 'ok'\n",
    "    elif 0.2 <= polarity < 0.6:\n",
    "        label = 'good'\n",
    "    elif 0.6 <= polarity <= 1:\n",
    "        label = 'positive'\n",
    "    return (polarity, label)\n",
    "sentiment = sentiment_textblob('')"
   ]
  },
  {
   "cell_type": "code",
   "execution_count": 12,
   "metadata": {},
   "outputs": [
    {
     "data": {
      "text/plain": [
       "(0.0, 'ok')"
      ]
     },
     "execution_count": 12,
     "metadata": {},
     "output_type": "execute_result"
    }
   ],
   "source": [
    "sentiment"
   ]
  },
  {
   "cell_type": "code",
   "execution_count": null,
   "metadata": {},
   "outputs": [],
   "source": []
  }
 ],
 "metadata": {
  "kernelspec": {
   "display_name": "Python 3",
   "language": "python",
   "name": "python3"
  },
  "language_info": {
   "codemirror_mode": {
    "name": "ipython",
    "version": 3
   },
   "file_extension": ".py",
   "mimetype": "text/x-python",
   "name": "python",
   "nbconvert_exporter": "python",
   "pygments_lexer": "ipython3",
   "version": "3.5.0"
  }
 },
 "nbformat": 4,
 "nbformat_minor": 2
}
